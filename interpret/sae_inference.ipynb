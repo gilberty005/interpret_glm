{
  "cells": [
    {
      "cell_type": "markdown",
      "metadata": {
        "id": "7Eaz3UmJF7S4"
      },
      "source": [
        "# Setup\n",
        "\n",
        "Install InterProt, load ESM and SAE"
      ]
    },
    {
      "cell_type": "code",
      "execution_count": 1,
      "metadata": {
        "id": "EFOR7aiGFbtW"
      },
      "outputs": [],
      "source": [
        "%%capture\n",
        "!pip install git+https://github.com/etowahadams/interprot.git"
      ]
    },
    {
      "cell_type": "code",
      "execution_count": 9,
      "metadata": {
        "colab": {
          "base_uri": "https://localhost:8080/"
        },
        "id": "GP2EorV7GEMG",
        "outputId": "7eea88e5-de62-4626-e94a-5e4ed7fc82b0"
      },
      "outputs": [
        {
          "name": "stderr",
          "output_type": "stream",
          "text": [
            "Some weights of EsmModel were not initialized from the model checkpoint at facebook/esm2_t33_650M_UR50D and are newly initialized: ['esm.pooler.dense.bias', 'esm.pooler.dense.weight']\n",
            "You should probably TRAIN this model on a down-stream task to be able to use it for predictions and inference.\n"
          ]
        },
        {
          "data": {
            "text/plain": [
              "SparseAutoencoder()"
            ]
          },
          "execution_count": 9,
          "metadata": {},
          "output_type": "execute_result"
        }
      ],
      "source": [
        "import torch\n",
        "from transformers import AutoTokenizer, EsmModel\n",
        "from safetensors.torch import load_file\n",
        "from interprot.sae_model import SparseAutoencoder\n",
        "from huggingface_hub import hf_hub_download\n",
        "\n",
        "ESM_DIM = 1280\n",
        "SAE_DIM = 4096\n",
        "LAYER = 24\n",
        "\n",
        "device = torch.device(\"cuda\" if torch.cuda.is_available() else \"cpu\")\n",
        "\n",
        "# Load ESM model\n",
        "tokenizer = AutoTokenizer.from_pretrained(\"facebook/esm2_t33_650M_UR50D\")\n",
        "esm_model = EsmModel.from_pretrained(\"facebook/esm2_t33_650M_UR50D\")\n",
        "esm_model.to(device)\n",
        "esm_model.eval()\n",
        "\n",
        "# Load SAE model\n",
        "checkpoint_path = hf_hub_download(\n",
        "    repo_id=\"liambai/InterProt-ESM2-SAEs\",\n",
        "    filename=\"esm2_plm1280_l24_sae4096.safetensors\"\n",
        ")\n",
        "sae_model = SparseAutoencoder(ESM_DIM, SAE_DIM)\n",
        "sae_model.load_state_dict(load_file(checkpoint_path))\n",
        "sae_model.to(device)\n",
        "sae_model.eval()"
      ]
    },
    {
      "cell_type": "markdown",
      "metadata": {
        "id": "KkGwi_p-IL-g"
      },
      "source": [
        "# Inference\n",
        "\n",
        "ESM -> SAE inference on an amino acid sequence of length `L`"
      ]
    },
    {
      "cell_type": "code",
      "execution_count": 1,
      "metadata": {
        "colab": {
          "base_uri": "https://localhost:8080/"
        },
        "id": "WEKYZ1bpGaM6",
        "outputId": "64cb8745-201d-432d-9a42-bb5265101046"
      },
      "outputs": [
        {
          "ename": "NameError",
          "evalue": "name 'tokenizer' is not defined",
          "output_type": "error",
          "traceback": [
            "\u001b[0;31m---------------------------------------------------------------------------\u001b[0m",
            "\u001b[0;31mNameError\u001b[0m                                 Traceback (most recent call last)",
            "Cell \u001b[0;32mIn[1], line 4\u001b[0m\n\u001b[1;32m      1\u001b[0m seq \u001b[38;5;241m=\u001b[39m \u001b[38;5;124m\"\u001b[39m\u001b[38;5;124mTTCCPSIVARSNFNVCRLPGTPEALCATYTGCIIIPGATCPGDYAN\u001b[39m\u001b[38;5;124m\"\u001b[39m\n\u001b[1;32m      3\u001b[0m \u001b[38;5;66;03m# Tokenize sequence and run ESM inference\u001b[39;00m\n\u001b[0;32m----> 4\u001b[0m inputs \u001b[38;5;241m=\u001b[39m tokenizer(seq, padding\u001b[38;5;241m=\u001b[39m\u001b[38;5;28;01mTrue\u001b[39;00m, return_tensors\u001b[38;5;241m=\u001b[39m\u001b[38;5;124m\"\u001b[39m\u001b[38;5;124mpt\u001b[39m\u001b[38;5;124m\"\u001b[39m)\n\u001b[1;32m      5\u001b[0m \u001b[38;5;28;01mwith\u001b[39;00m torch\u001b[38;5;241m.\u001b[39mno_grad():\n\u001b[1;32m      6\u001b[0m     outputs \u001b[38;5;241m=\u001b[39m esm_model(\u001b[38;5;241m*\u001b[39m\u001b[38;5;241m*\u001b[39minputs, output_hidden_states\u001b[38;5;241m=\u001b[39m\u001b[38;5;28;01mTrue\u001b[39;00m)\n",
            "\u001b[0;31mNameError\u001b[0m: name 'tokenizer' is not defined"
          ]
        }
      ],
      "source": [
        "seq = \"TTCCPSIVARSNFNVCRLPGTPEALCATYTGCIIIPGATCPGDYAN\"\n",
        "\n",
        "# Tokenize sequence and run ESM inference\n",
        "inputs = tokenizer(seq, padding=True, return_tensors=\"pt\")\n",
        "with torch.no_grad():\n",
        "    outputs = esm_model(**inputs, output_hidden_states=True)\n",
        "\n",
        "# esm_layer_acts has shape (L+2, ESM_DIM), +2 for BoS and EoS tokens\n",
        "esm_layer_acts = outputs.hidden_states[LAYER][0]\n",
        "\n",
        "# Using ESM embeddings from LAYER, run SAE inference\n",
        "sae_acts = sae_model.get_acts(esm_layer_acts) # (L+2, SAE_DIM)\n",
        "sae_acts"
      ]
    }
  ],
  "metadata": {
    "colab": {
      "provenance": []
    },
    "kernelspec": {
      "display_name": "base",
      "language": "python",
      "name": "python3"
    },
    "language_info": {
      "codemirror_mode": {
        "name": "ipython",
        "version": 3
      },
      "file_extension": ".py",
      "mimetype": "text/x-python",
      "name": "python",
      "nbconvert_exporter": "python",
      "pygments_lexer": "ipython3",
      "version": "3.12.4"
    }
  },
  "nbformat": 4,
  "nbformat_minor": 0
}
